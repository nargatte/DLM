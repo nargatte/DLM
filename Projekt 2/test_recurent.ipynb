{
 "cells": [
  {
   "cell_type": "code",
   "execution_count": 1,
   "metadata": {},
   "outputs": [
    {
     "name": "stderr",
     "output_type": "stream",
     "text": [
      "/usr/lib/python3/dist-packages/requests/__init__.py:89: RequestsDependencyWarning: urllib3 (1.26.15) or chardet (3.0.4) doesn't match a supported version!\n",
      "  warnings.warn(\"urllib3 ({}) or chardet ({}) doesn't match a supported \"\n",
      "/usr/local/lib/python3.8/dist-packages/tqdm/auto.py:21: TqdmWarning: IProgress not found. Please update jupyter and ipywidgets. See https://ipywidgets.readthedocs.io/en/stable/user_install.html\n",
      "  from .autonotebook import tqdm as notebook_tqdm\n",
      "2023-04-19 18:42:52.209864: I tensorflow/core/platform/cpu_feature_guard.cc:182] This TensorFlow binary is optimized to use available CPU instructions in performance-critical operations.\n",
      "To enable the following instructions: AVX2 FMA, in other operations, rebuild TensorFlow with the appropriate compiler flags.\n"
     ]
    }
   ],
   "source": [
    "from get_dataset import * \n",
    "import matplotlib.pyplot as plt\n",
    "import numpy as np\n",
    "from tensorflow.keras import models, layers\n",
    "import seaborn as sns"
   ]
  },
  {
   "cell_type": "code",
   "execution_count": 2,
   "metadata": {},
   "outputs": [],
   "source": [
    "seed = 42\n",
    "tf.random.set_seed(seed)\n",
    "np.random.seed(seed)"
   ]
  },
  {
   "cell_type": "code",
   "execution_count": 29,
   "metadata": {},
   "outputs": [],
   "source": [
    "ds_train = get_dataset(\"train\").batch(64)\n",
    "ds_test = get_dataset(\"test\").batch(64)"
   ]
  },
  {
   "cell_type": "code",
   "execution_count": 42,
   "metadata": {},
   "outputs": [
    {
     "name": "stdout",
     "output_type": "stream",
     "text": [
      "Model: \"sequential_20\"\n",
      "_________________________________________________________________\n",
      " Layer (type)                Output Shape              Param #   \n",
      "=================================================================\n",
      " simple_rnn_23 (SimpleRNN)   (None, 64)                12416     \n",
      "                                                                 \n",
      " dense_20 (Dense)            (None, 12)                780       \n",
      "                                                                 \n",
      "=================================================================\n",
      "Total params: 13,196\n",
      "Trainable params: 13,196\n",
      "Non-trainable params: 0\n",
      "_________________________________________________________________\n"
     ]
    }
   ],
   "source": [
    "model = models.Sequential([\n",
    "    layers.Input(shape=[124, 129]),\n",
    "    layers.SimpleRNN(64),\n",
    "    layers.Dense(12)\n",
    "])\n",
    "\n",
    "model.compile(\n",
    "    optimizer=tf.keras.optimizers.Adam(),\n",
    "    loss=tf.keras.losses.SparseCategoricalCrossentropy(from_logits=True),\n",
    "    metrics=['accuracy'],\n",
    ")\n",
    "\n",
    "model.summary()"
   ]
  },
  {
   "cell_type": "code",
   "execution_count": 43,
   "metadata": {},
   "outputs": [
    {
     "name": "stdout",
     "output_type": "stream",
     "text": [
      "Epoch 1/30\n",
      "348/348 [==============================] - 11s 28ms/step - loss: 2.1861 - accuracy: 0.2143 - val_loss: 2.4925 - val_accuracy: 0.1941\n",
      "Epoch 2/30\n",
      "348/348 [==============================] - 10s 28ms/step - loss: 2.1833 - accuracy: 0.2236 - val_loss: 2.4229 - val_accuracy: 0.1529\n",
      "Epoch 3/30\n",
      "348/348 [==============================] - 10s 29ms/step - loss: 2.1855 - accuracy: 0.2162 - val_loss: 2.3946 - val_accuracy: 0.1396\n",
      "Epoch 4/30\n",
      "348/348 [==============================] - 10s 28ms/step - loss: 2.1717 - accuracy: 0.2272 - val_loss: 2.3135 - val_accuracy: 0.1954\n",
      "Epoch 5/30\n",
      "348/348 [==============================] - 10s 28ms/step - loss: 2.1723 - accuracy: 0.2195 - val_loss: 2.4532 - val_accuracy: 0.1347\n",
      "Epoch 6/30\n",
      "348/348 [==============================] - 10s 28ms/step - loss: 2.1596 - accuracy: 0.2208 - val_loss: 2.2771 - val_accuracy: 0.2025\n",
      "Epoch 7/30\n",
      "348/348 [==============================] - 10s 28ms/step - loss: 2.1391 - accuracy: 0.2474 - val_loss: 2.4216 - val_accuracy: 0.1334\n",
      "Epoch 8/30\n",
      "348/348 [==============================] - 10s 28ms/step - loss: 2.1880 - accuracy: 0.2112 - val_loss: 2.4414 - val_accuracy: 0.1594\n",
      "Epoch 9/30\n",
      "348/348 [==============================] - 10s 28ms/step - loss: 2.1778 - accuracy: 0.2156 - val_loss: 2.4403 - val_accuracy: 0.1357\n",
      "Epoch 9: early stopping\n"
     ]
    }
   ],
   "source": [
    "EPOCHS = 30\n",
    "history = model.fit(\n",
    "    ds_train,\n",
    "    validation_data=ds_test,\n",
    "    epochs=EPOCHS,\n",
    "    callbacks=tf.keras.callbacks.EarlyStopping(verbose=1, patience=3),\n",
    ")"
   ]
  },
  {
   "cell_type": "code",
   "execution_count": 44,
   "metadata": {},
   "outputs": [
    {
     "name": "stdout",
     "output_type": "stream",
     "text": [
      "Model: \"sequential_21\"\n",
      "_________________________________________________________________\n",
      " Layer (type)                Output Shape              Param #   \n",
      "=================================================================\n",
      " lstm_2 (LSTM)               (None, 256)               395264    \n",
      "                                                                 \n",
      " dense_21 (Dense)            (None, 12)                3084      \n",
      "                                                                 \n",
      "=================================================================\n",
      "Total params: 398,348\n",
      "Trainable params: 398,348\n",
      "Non-trainable params: 0\n",
      "_________________________________________________________________\n"
     ]
    },
    {
     "name": "stderr",
     "output_type": "stream",
     "text": [
      "2023-04-19 19:31:02.653645: I tensorflow/core/common_runtime/executor.cc:1197] [/device:CPU:0] (DEBUG INFO) Executor start aborting (this does not indicate an error and you can ignore this message): INVALID_ARGUMENT: You must feed a value for placeholder tensor 'gradients/split_2_grad/concat/split_2/split_dim' with dtype int32\n",
      "\t [[{{node gradients/split_2_grad/concat/split_2/split_dim}}]]\n",
      "2023-04-19 19:31:02.654704: I tensorflow/core/common_runtime/executor.cc:1197] [/device:CPU:0] (DEBUG INFO) Executor start aborting (this does not indicate an error and you can ignore this message): INVALID_ARGUMENT: You must feed a value for placeholder tensor 'gradients/split_grad/concat/split/split_dim' with dtype int32\n",
      "\t [[{{node gradients/split_grad/concat/split/split_dim}}]]\n",
      "2023-04-19 19:31:02.655448: I tensorflow/core/common_runtime/executor.cc:1197] [/device:CPU:0] (DEBUG INFO) Executor start aborting (this does not indicate an error and you can ignore this message): INVALID_ARGUMENT: You must feed a value for placeholder tensor 'gradients/split_1_grad/concat/split_1/split_dim' with dtype int32\n",
      "\t [[{{node gradients/split_1_grad/concat/split_1/split_dim}}]]\n"
     ]
    }
   ],
   "source": [
    "model = models.Sequential([\n",
    "    layers.Input(shape=[124, 129]),\n",
    "    layers.LSTM(256),\n",
    "    layers.Dense(12)\n",
    "])\n",
    "\n",
    "model.compile(\n",
    "    optimizer=tf.keras.optimizers.Adam(),\n",
    "    loss=tf.keras.losses.SparseCategoricalCrossentropy(from_logits=True),\n",
    "    metrics=['accuracy'],\n",
    ")\n",
    "\n",
    "model.summary()"
   ]
  },
  {
   "cell_type": "code",
   "execution_count": 45,
   "metadata": {},
   "outputs": [
    {
     "name": "stdout",
     "output_type": "stream",
     "text": [
      "Epoch 1/30\n"
     ]
    },
    {
     "name": "stderr",
     "output_type": "stream",
     "text": [
      "2023-04-19 19:31:22.169266: I tensorflow/core/common_runtime/executor.cc:1197] [/device:CPU:0] (DEBUG INFO) Executor start aborting (this does not indicate an error and you can ignore this message): INVALID_ARGUMENT: You must feed a value for placeholder tensor 'gradients/split_2_grad/concat/split_2/split_dim' with dtype int32\n",
      "\t [[{{node gradients/split_2_grad/concat/split_2/split_dim}}]]\n",
      "2023-04-19 19:31:22.170560: I tensorflow/core/common_runtime/executor.cc:1197] [/device:CPU:0] (DEBUG INFO) Executor start aborting (this does not indicate an error and you can ignore this message): INVALID_ARGUMENT: You must feed a value for placeholder tensor 'gradients/split_grad/concat/split/split_dim' with dtype int32\n",
      "\t [[{{node gradients/split_grad/concat/split/split_dim}}]]\n",
      "2023-04-19 19:31:22.171395: I tensorflow/core/common_runtime/executor.cc:1197] [/device:CPU:0] (DEBUG INFO) Executor start aborting (this does not indicate an error and you can ignore this message): INVALID_ARGUMENT: You must feed a value for placeholder tensor 'gradients/split_1_grad/concat/split_1/split_dim' with dtype int32\n",
      "\t [[{{node gradients/split_1_grad/concat/split_1/split_dim}}]]\n",
      "2023-04-19 19:31:22.604855: I tensorflow/core/common_runtime/executor.cc:1197] [/device:CPU:0] (DEBUG INFO) Executor start aborting (this does not indicate an error and you can ignore this message): INVALID_ARGUMENT: You must feed a value for placeholder tensor 'gradients/split_2_grad/concat/split_2/split_dim' with dtype int32\n",
      "\t [[{{node gradients/split_2_grad/concat/split_2/split_dim}}]]\n",
      "2023-04-19 19:31:22.606022: I tensorflow/core/common_runtime/executor.cc:1197] [/device:CPU:0] (DEBUG INFO) Executor start aborting (this does not indicate an error and you can ignore this message): INVALID_ARGUMENT: You must feed a value for placeholder tensor 'gradients/split_grad/concat/split/split_dim' with dtype int32\n",
      "\t [[{{node gradients/split_grad/concat/split/split_dim}}]]\n",
      "2023-04-19 19:31:22.606865: I tensorflow/core/common_runtime/executor.cc:1197] [/device:CPU:0] (DEBUG INFO) Executor start aborting (this does not indicate an error and you can ignore this message): INVALID_ARGUMENT: You must feed a value for placeholder tensor 'gradients/split_1_grad/concat/split_1/split_dim' with dtype int32\n",
      "\t [[{{node gradients/split_1_grad/concat/split_1/split_dim}}]]\n"
     ]
    },
    {
     "name": "stdout",
     "output_type": "stream",
     "text": [
      "    347/Unknown - 4s 6ms/step - loss: 1.9748 - accuracy: 0.2920"
     ]
    },
    {
     "name": "stderr",
     "output_type": "stream",
     "text": [
      "2023-04-19 19:31:25.760700: I tensorflow/core/common_runtime/executor.cc:1197] [/device:CPU:0] (DEBUG INFO) Executor start aborting (this does not indicate an error and you can ignore this message): INVALID_ARGUMENT: You must feed a value for placeholder tensor 'gradients/split_2_grad/concat/split_2/split_dim' with dtype int32\n",
      "\t [[{{node gradients/split_2_grad/concat/split_2/split_dim}}]]\n",
      "2023-04-19 19:31:25.761701: I tensorflow/core/common_runtime/executor.cc:1197] [/device:CPU:0] (DEBUG INFO) Executor start aborting (this does not indicate an error and you can ignore this message): INVALID_ARGUMENT: You must feed a value for placeholder tensor 'gradients/split_grad/concat/split/split_dim' with dtype int32\n",
      "\t [[{{node gradients/split_grad/concat/split/split_dim}}]]\n",
      "2023-04-19 19:31:25.762489: I tensorflow/core/common_runtime/executor.cc:1197] [/device:CPU:0] (DEBUG INFO) Executor start aborting (this does not indicate an error and you can ignore this message): INVALID_ARGUMENT: You must feed a value for placeholder tensor 'gradients/split_1_grad/concat/split_1/split_dim' with dtype int32\n",
      "\t [[{{node gradients/split_1_grad/concat/split_1/split_dim}}]]\n"
     ]
    },
    {
     "name": "stdout",
     "output_type": "stream",
     "text": [
      "348/348 [==============================] - 4s 8ms/step - loss: 1.9740 - accuracy: 0.2924 - val_loss: 2.1347 - val_accuracy: 0.2700\n",
      "Epoch 2/30\n",
      "348/348 [==============================] - 3s 7ms/step - loss: 1.6367 - accuracy: 0.4277 - val_loss: 1.4405 - val_accuracy: 0.4940\n",
      "Epoch 3/30\n",
      "348/348 [==============================] - 3s 7ms/step - loss: 1.0850 - accuracy: 0.6285 - val_loss: 0.9910 - val_accuracy: 0.6829\n",
      "Epoch 4/30\n",
      "348/348 [==============================] - 3s 7ms/step - loss: 0.7906 - accuracy: 0.7445 - val_loss: 0.7803 - val_accuracy: 0.7530\n",
      "Epoch 5/30\n",
      "348/348 [==============================] - 3s 7ms/step - loss: 0.5771 - accuracy: 0.8157 - val_loss: 0.6453 - val_accuracy: 0.7894\n",
      "Epoch 6/30\n",
      "348/348 [==============================] - 3s 7ms/step - loss: 0.4739 - accuracy: 0.8494 - val_loss: 0.5825 - val_accuracy: 0.8111\n",
      "Epoch 7/30\n",
      "348/348 [==============================] - 3s 7ms/step - loss: 0.3999 - accuracy: 0.8726 - val_loss: 0.5059 - val_accuracy: 0.8484\n",
      "Epoch 8/30\n",
      "348/348 [==============================] - 2s 7ms/step - loss: 0.3629 - accuracy: 0.8849 - val_loss: 0.5690 - val_accuracy: 0.8270\n",
      "Epoch 9/30\n",
      "348/348 [==============================] - 2s 7ms/step - loss: 0.3110 - accuracy: 0.9020 - val_loss: 0.4561 - val_accuracy: 0.8627\n",
      "Epoch 10/30\n",
      "348/348 [==============================] - 2s 7ms/step - loss: 0.2732 - accuracy: 0.9122 - val_loss: 0.4244 - val_accuracy: 0.8689\n",
      "Epoch 11/30\n",
      "348/348 [==============================] - 3s 7ms/step - loss: 0.2399 - accuracy: 0.9244 - val_loss: 0.4483 - val_accuracy: 0.8611\n",
      "Epoch 12/30\n",
      "348/348 [==============================] - 3s 7ms/step - loss: 0.2298 - accuracy: 0.9272 - val_loss: 0.4735 - val_accuracy: 0.8634\n",
      "Epoch 13/30\n",
      "348/348 [==============================] - 3s 7ms/step - loss: 0.2092 - accuracy: 0.9323 - val_loss: 0.4842 - val_accuracy: 0.8507\n",
      "Epoch 13: early stopping\n"
     ]
    }
   ],
   "source": [
    "EPOCHS = 30\n",
    "history = model.fit(\n",
    "    ds_train,\n",
    "    validation_data=ds_test,\n",
    "    epochs=EPOCHS,\n",
    "    callbacks=tf.keras.callbacks.EarlyStopping(verbose=1, patience=3),\n",
    ")"
   ]
  },
  {
   "cell_type": "code",
   "execution_count": 47,
   "metadata": {},
   "outputs": [
    {
     "name": "stderr",
     "output_type": "stream",
     "text": [
      "2023-04-19 19:34:56.361064: I tensorflow/core/common_runtime/executor.cc:1197] [/device:CPU:0] (DEBUG INFO) Executor start aborting (this does not indicate an error and you can ignore this message): INVALID_ARGUMENT: You must feed a value for placeholder tensor 'gradients/split_2_grad/concat/split_2/split_dim' with dtype int32\n",
      "\t [[{{node gradients/split_2_grad/concat/split_2/split_dim}}]]\n",
      "2023-04-19 19:34:56.362262: I tensorflow/core/common_runtime/executor.cc:1197] [/device:CPU:0] (DEBUG INFO) Executor start aborting (this does not indicate an error and you can ignore this message): INVALID_ARGUMENT: You must feed a value for placeholder tensor 'gradients/split_grad/concat/split/split_dim' with dtype int32\n",
      "\t [[{{node gradients/split_grad/concat/split/split_dim}}]]\n",
      "2023-04-19 19:34:56.363109: I tensorflow/core/common_runtime/executor.cc:1197] [/device:CPU:0] (DEBUG INFO) Executor start aborting (this does not indicate an error and you can ignore this message): INVALID_ARGUMENT: You must feed a value for placeholder tensor 'gradients/split_1_grad/concat/split_1/split_dim' with dtype int32\n",
      "\t [[{{node gradients/split_1_grad/concat/split_1/split_dim}}]]\n"
     ]
    },
    {
     "name": "stdout",
     "output_type": "stream",
     "text": [
      "Model: \"sequential_22\"\n",
      "_________________________________________________________________\n",
      " Layer (type)                Output Shape              Param #   \n",
      "=================================================================\n",
      " gru (GRU)                   (None, 256)               297216    \n",
      "                                                                 \n",
      " dense_22 (Dense)            (None, 12)                3084      \n",
      "                                                                 \n",
      "=================================================================\n",
      "Total params: 300,300\n",
      "Trainable params: 300,300\n",
      "Non-trainable params: 0\n",
      "_________________________________________________________________\n"
     ]
    }
   ],
   "source": [
    "model = models.Sequential([\n",
    "    layers.Input(shape=[124, 129]),\n",
    "    layers.GRU(256),\n",
    "    layers.Dense(12)\n",
    "])\n",
    "\n",
    "model.compile(\n",
    "    optimizer=tf.keras.optimizers.Adam(),\n",
    "    loss=tf.keras.losses.SparseCategoricalCrossentropy(from_logits=True),\n",
    "    metrics=['accuracy'],\n",
    ")\n",
    "\n",
    "model.summary()"
   ]
  },
  {
   "cell_type": "code",
   "execution_count": 48,
   "metadata": {},
   "outputs": [
    {
     "name": "stdout",
     "output_type": "stream",
     "text": [
      "Epoch 1/30\n"
     ]
    },
    {
     "name": "stderr",
     "output_type": "stream",
     "text": [
      "2023-04-19 19:35:04.143508: I tensorflow/core/common_runtime/executor.cc:1197] [/device:CPU:0] (DEBUG INFO) Executor start aborting (this does not indicate an error and you can ignore this message): INVALID_ARGUMENT: You must feed a value for placeholder tensor 'gradients/split_2_grad/concat/split_2/split_dim' with dtype int32\n",
      "\t [[{{node gradients/split_2_grad/concat/split_2/split_dim}}]]\n",
      "2023-04-19 19:35:04.144706: I tensorflow/core/common_runtime/executor.cc:1197] [/device:CPU:0] (DEBUG INFO) Executor start aborting (this does not indicate an error and you can ignore this message): INVALID_ARGUMENT: You must feed a value for placeholder tensor 'gradients/split_grad/concat/split/split_dim' with dtype int32\n",
      "\t [[{{node gradients/split_grad/concat/split/split_dim}}]]\n",
      "2023-04-19 19:35:04.145522: I tensorflow/core/common_runtime/executor.cc:1197] [/device:CPU:0] (DEBUG INFO) Executor start aborting (this does not indicate an error and you can ignore this message): INVALID_ARGUMENT: You must feed a value for placeholder tensor 'gradients/split_1_grad/concat/split_1/split_dim' with dtype int32\n",
      "\t [[{{node gradients/split_1_grad/concat/split_1/split_dim}}]]\n",
      "2023-04-19 19:35:04.599751: I tensorflow/core/common_runtime/executor.cc:1197] [/device:CPU:0] (DEBUG INFO) Executor start aborting (this does not indicate an error and you can ignore this message): INVALID_ARGUMENT: You must feed a value for placeholder tensor 'gradients/split_2_grad/concat/split_2/split_dim' with dtype int32\n",
      "\t [[{{node gradients/split_2_grad/concat/split_2/split_dim}}]]\n",
      "2023-04-19 19:35:04.600818: I tensorflow/core/common_runtime/executor.cc:1197] [/device:CPU:0] (DEBUG INFO) Executor start aborting (this does not indicate an error and you can ignore this message): INVALID_ARGUMENT: You must feed a value for placeholder tensor 'gradients/split_grad/concat/split/split_dim' with dtype int32\n",
      "\t [[{{node gradients/split_grad/concat/split/split_dim}}]]\n",
      "2023-04-19 19:35:04.601669: I tensorflow/core/common_runtime/executor.cc:1197] [/device:CPU:0] (DEBUG INFO) Executor start aborting (this does not indicate an error and you can ignore this message): INVALID_ARGUMENT: You must feed a value for placeholder tensor 'gradients/split_1_grad/concat/split_1/split_dim' with dtype int32\n",
      "\t [[{{node gradients/split_1_grad/concat/split_1/split_dim}}]]\n"
     ]
    },
    {
     "name": "stdout",
     "output_type": "stream",
     "text": [
      "    347/Unknown - 4s 6ms/step - loss: 1.4896 - accuracy: 0.4514"
     ]
    },
    {
     "name": "stderr",
     "output_type": "stream",
     "text": [
      "2023-04-19 19:35:07.729392: I tensorflow/core/common_runtime/executor.cc:1197] [/device:CPU:0] (DEBUG INFO) Executor start aborting (this does not indicate an error and you can ignore this message): INVALID_ARGUMENT: You must feed a value for placeholder tensor 'gradients/split_2_grad/concat/split_2/split_dim' with dtype int32\n",
      "\t [[{{node gradients/split_2_grad/concat/split_2/split_dim}}]]\n",
      "2023-04-19 19:35:07.730492: I tensorflow/core/common_runtime/executor.cc:1197] [/device:CPU:0] (DEBUG INFO) Executor start aborting (this does not indicate an error and you can ignore this message): INVALID_ARGUMENT: You must feed a value for placeholder tensor 'gradients/split_grad/concat/split/split_dim' with dtype int32\n",
      "\t [[{{node gradients/split_grad/concat/split/split_dim}}]]\n",
      "2023-04-19 19:35:07.731245: I tensorflow/core/common_runtime/executor.cc:1197] [/device:CPU:0] (DEBUG INFO) Executor start aborting (this does not indicate an error and you can ignore this message): INVALID_ARGUMENT: You must feed a value for placeholder tensor 'gradients/split_1_grad/concat/split_1/split_dim' with dtype int32\n",
      "\t [[{{node gradients/split_1_grad/concat/split_1/split_dim}}]]\n"
     ]
    },
    {
     "name": "stdout",
     "output_type": "stream",
     "text": [
      "348/348 [==============================] - 4s 7ms/step - loss: 1.4879 - accuracy: 0.4521 - val_loss: 0.9014 - val_accuracy: 0.7027\n",
      "Epoch 2/30\n",
      "348/348 [==============================] - 3s 7ms/step - loss: 0.5924 - accuracy: 0.8022 - val_loss: 0.5787 - val_accuracy: 0.8098\n",
      "Epoch 3/30\n",
      "348/348 [==============================] - 3s 7ms/step - loss: 0.3778 - accuracy: 0.8758 - val_loss: 0.4942 - val_accuracy: 0.8449\n",
      "Epoch 4/30\n",
      "348/348 [==============================] - 2s 7ms/step - loss: 0.2974 - accuracy: 0.9024 - val_loss: 0.3820 - val_accuracy: 0.8760\n",
      "Epoch 5/30\n",
      "348/348 [==============================] - 3s 7ms/step - loss: 0.2335 - accuracy: 0.9259 - val_loss: 0.4689 - val_accuracy: 0.8565\n",
      "Epoch 6/30\n",
      "348/348 [==============================] - 2s 7ms/step - loss: 0.2036 - accuracy: 0.9343 - val_loss: 0.4073 - val_accuracy: 0.8754\n",
      "Epoch 7/30\n",
      "348/348 [==============================] - 2s 7ms/step - loss: 0.1787 - accuracy: 0.9424 - val_loss: 0.3682 - val_accuracy: 0.8841\n",
      "Epoch 8/30\n",
      "348/348 [==============================] - 2s 7ms/step - loss: 0.1560 - accuracy: 0.9487 - val_loss: 0.3844 - val_accuracy: 0.8890\n",
      "Epoch 9/30\n",
      "348/348 [==============================] - 3s 7ms/step - loss: 0.1396 - accuracy: 0.9544 - val_loss: 0.3541 - val_accuracy: 0.9007\n",
      "Epoch 10/30\n",
      "348/348 [==============================] - 3s 7ms/step - loss: 0.1284 - accuracy: 0.9589 - val_loss: 0.3953 - val_accuracy: 0.8867\n",
      "Epoch 11/30\n",
      "348/348 [==============================] - 2s 7ms/step - loss: 0.1122 - accuracy: 0.9639 - val_loss: 0.3705 - val_accuracy: 0.8984\n",
      "Epoch 12/30\n",
      "348/348 [==============================] - 3s 7ms/step - loss: 0.1106 - accuracy: 0.9634 - val_loss: 0.4100 - val_accuracy: 0.8958\n",
      "Epoch 12: early stopping\n"
     ]
    }
   ],
   "source": [
    "EPOCHS = 30\n",
    "history = model.fit(\n",
    "    ds_train,\n",
    "    validation_data=ds_test,\n",
    "    epochs=EPOCHS,\n",
    "    callbacks=tf.keras.callbacks.EarlyStopping(verbose=1, patience=3),\n",
    ")"
   ]
  },
  {
   "cell_type": "code",
   "execution_count": 49,
   "metadata": {},
   "outputs": [
    {
     "name": "stdout",
     "output_type": "stream",
     "text": [
      "     29/Unknown - 0s 4ms/step "
     ]
    },
    {
     "name": "stderr",
     "output_type": "stream",
     "text": [
      "2023-04-19 19:36:15.241272: I tensorflow/core/common_runtime/executor.cc:1197] [/device:CPU:0] (DEBUG INFO) Executor start aborting (this does not indicate an error and you can ignore this message): INVALID_ARGUMENT: You must feed a value for placeholder tensor 'gradients/split_2_grad/concat/split_2/split_dim' with dtype int32\n",
      "\t [[{{node gradients/split_2_grad/concat/split_2/split_dim}}]]\n",
      "2023-04-19 19:36:15.242322: I tensorflow/core/common_runtime/executor.cc:1197] [/device:CPU:0] (DEBUG INFO) Executor start aborting (this does not indicate an error and you can ignore this message): INVALID_ARGUMENT: You must feed a value for placeholder tensor 'gradients/split_grad/concat/split/split_dim' with dtype int32\n",
      "\t [[{{node gradients/split_grad/concat/split/split_dim}}]]\n",
      "2023-04-19 19:36:15.243131: I tensorflow/core/common_runtime/executor.cc:1197] [/device:CPU:0] (DEBUG INFO) Executor start aborting (this does not indicate an error and you can ignore this message): INVALID_ARGUMENT: You must feed a value for placeholder tensor 'gradients/split_1_grad/concat/split_1/split_dim' with dtype int32\n",
      "\t [[{{node gradients/split_1_grad/concat/split_1/split_dim}}]]\n"
     ]
    },
    {
     "name": "stdout",
     "output_type": "stream",
     "text": [
      "49/49 [==============================] - 0s 4ms/step\n"
     ]
    },
    {
     "name": "stderr",
     "output_type": "stream",
     "text": [
      "2023-04-19 19:36:15.525905: I tensorflow/core/common_runtime/executor.cc:1197] [/device:CPU:0] (DEBUG INFO) Executor start aborting (this does not indicate an error and you can ignore this message): INVALID_ARGUMENT: You must feed a value for placeholder tensor 'Placeholder/_0' with dtype int32\n",
      "\t [[{{node Placeholder/_0}}]]\n"
     ]
    },
    {
     "data": {
      "image/png": "[encoded data removed]",
      "text/plain": [
       "<Figure size 1000x800 with 2 Axes>"
      ]
     },
     "metadata": {},
     "output_type": "display_data"
    }
   ],
   "source": [
    "y_pred = model.predict(ds_test)\n",
    "y_pred = tf.argmax(y_pred, axis=1)\n",
    "y_true = tf.concat(list(ds_test.map(lambda s,lab: lab)), axis=0)\n",
    "confusion_mtx = tf.math.confusion_matrix(y_true, y_pred)\n",
    "plt.figure(figsize=(10, 8))\n",
    "sns.heatmap(confusion_mtx,\n",
    "            annot=True, fmt='g')\n",
    "plt.xlabel('Prediction')\n",
    "plt.ylabel('Label')\n",
    "plt.show()\n"
   ]
  }
 ],
 "metadata": {
  "kernelspec": {
   "display_name": "Python 3",
   "language": "python",
   "name": "python3"
  },
  "language_info": {
   "codemirror_mode": {
    "name": "ipython",
    "version": 3
   },
   "file_extension": ".py",
   "mimetype": "text/x-python",
   "name": "python",
   "nbconvert_exporter": "python",
   "pygments_lexer": "ipython3",
   "version": "3.8.10"
  },
  "orig_nbformat": 4
 },
 "nbformat": 4,
 "nbformat_minor": 2
}
