{
 "cells": [
  {
   "cell_type": "code",
   "execution_count": 18,
   "metadata": {},
   "outputs": [],
   "source": [
    "from get_dataset import * \n",
    "import matplotlib.pyplot as plt\n",
    "import numpy as np\n",
    "from tensorflow.keras import models, layers"
   ]
  },
  {
   "cell_type": "code",
   "execution_count": 46,
   "metadata": {},
   "outputs": [],
   "source": [
    "ds_train = get_dataset(\"train\").map(lambda x,y: (x[..., tf.newaxis], y)).batch(64)\n",
    "ds_test = get_dataset(\"test\").map(lambda x,y: (x[..., tf.newaxis], y)).batch(64)"
   ]
  },
  {
   "cell_type": "code",
   "execution_count": 48,
   "metadata": {},
   "outputs": [
    {
     "data": {
      "text/plain": [
       "TensorShape([64, 61, 101, 1])"
      ]
     },
     "execution_count": 48,
     "metadata": {},
     "output_type": "execute_result"
    }
   ],
   "source": [
    "input_shape = next(iter(ds_train))[0].shape\n",
    "input_shape"
   ]
  },
  {
   "cell_type": "code",
   "execution_count": 55,
   "metadata": {},
   "outputs": [
    {
     "name": "stdout",
     "output_type": "stream",
     "text": [
      "Model: \"sequential_7\"\n",
      "_________________________________________________________________\n",
      " Layer (type)                Output Shape              Param #   \n",
      "=================================================================\n",
      " conv2d_14 (Conv2D)          (None, 59, 99, 32)        320       \n",
      "                                                                 \n",
      " conv2d_15 (Conv2D)          (None, 57, 97, 64)        18496     \n",
      "                                                                 \n",
      " max_pooling2d_7 (MaxPooling  (None, 28, 48, 64)       0         \n",
      " 2D)                                                             \n",
      "                                                                 \n",
      " flatten_7 (Flatten)         (None, 86016)             0         \n",
      "                                                                 \n",
      " dense_14 (Dense)            (None, 128)               11010176  \n",
      "                                                                 \n",
      " dense_15 (Dense)            (None, 12)                1548      \n",
      "                                                                 \n",
      "=================================================================\n",
      "Total params: 11,030,540\n",
      "Trainable params: 11,030,540\n",
      "Non-trainable params: 0\n",
      "_________________________________________________________________\n"
     ]
    }
   ],
   "source": [
    "model = models.Sequential([\n",
    "    layers.Input(shape=[61, 101, 1]),\n",
    "    layers.Conv2D(32, 3, activation='relu'),\n",
    "    layers.Conv2D(64, 3, activation='relu'),\n",
    "    layers.MaxPooling2D(),\n",
    "    #layers.Dropout(0.25),\n",
    "    layers.Flatten(),\n",
    "    layers.Dense(128, activation='relu'),\n",
    "    #layers.Dropout(0.5),\n",
    "    layers.Dense(12),\n",
    "])\n",
    "\n",
    "model.compile(\n",
    "    optimizer=tf.keras.optimizers.Adam(),\n",
    "    loss=tf.keras.losses.SparseCategoricalCrossentropy(from_logits=True),\n",
    "    metrics=['accuracy'],\n",
    ")\n",
    "\n",
    "model.summary()"
   ]
  },
  {
   "cell_type": "code",
   "execution_count": 56,
   "metadata": {},
   "outputs": [],
   "source": [
    "model.compile(\n",
    "    optimizer=tf.keras.optimizers.Adam(),\n",
    "    loss=tf.keras.losses.SparseCategoricalCrossentropy(from_logits=True),\n",
    "    metrics=['accuracy'],\n",
    ")"
   ]
  },
  {
   "cell_type": "code",
   "execution_count": 57,
   "metadata": {},
   "outputs": [
    {
     "name": "stdout",
     "output_type": "stream",
     "text": [
      "Epoch 1/10\n",
      "804/804 [==============================] - 8s 8ms/step - loss: 2.9904 - accuracy: 0.5445 - val_loss: 3.0429 - val_accuracy: 0.0834\n",
      "Epoch 2/10\n",
      "804/804 [==============================] - 6s 8ms/step - loss: 2.8488 - accuracy: 0.6337 - val_loss: 5.7925 - val_accuracy: 0.0834\n",
      "Epoch 3/10\n",
      "804/804 [==============================] - 6s 8ms/step - loss: 2.6780 - accuracy: 0.6335 - val_loss: 12.5175 - val_accuracy: 0.0834\n",
      "Epoch 4/10\n",
      "804/804 [==============================] - 6s 8ms/step - loss: 1.8330 - accuracy: 0.6402 - val_loss: 83.9400 - val_accuracy: 0.0834\n",
      "Epoch 5/10\n",
      "804/804 [==============================] - 6s 8ms/step - loss: 2.4902 - accuracy: 0.6907 - val_loss: 80.1647 - val_accuracy: 0.0834\n",
      "Epoch 5: early stopping\n"
     ]
    }
   ],
   "source": [
    "EPOCHS = 10\n",
    "history = model.fit(\n",
    "    ds_train,\n",
    "    validation_data=ds_test,\n",
    "    epochs=EPOCHS,\n",
    "    callbacks=tf.keras.callbacks.EarlyStopping(verbose=1, patience=4),\n",
    ")"
   ]
  }
 ],
 "metadata": {
  "kernelspec": {
   "display_name": "Python 3",
   "language": "python",
   "name": "python3"
  },
  "language_info": {
   "codemirror_mode": {
    "name": "ipython",
    "version": 3
   },
   "file_extension": ".py",
   "mimetype": "text/x-python",
   "name": "python",
   "nbconvert_exporter": "python",
   "pygments_lexer": "ipython3",
   "version": "3.8.10"
  },
  "orig_nbformat": 4
 },
 "nbformat": 4,
 "nbformat_minor": 2
}
