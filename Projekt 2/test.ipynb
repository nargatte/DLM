{
 "cells": [
  {
   "cell_type": "code",
   "execution_count": 1,
   "metadata": {},
   "outputs": [
    {
     "name": "stderr",
     "output_type": "stream",
     "text": [
      "/usr/lib/python3/dist-packages/requests/__init__.py:89: RequestsDependencyWarning: urllib3 (1.26.15) or chardet (3.0.4) doesn't match a supported version!\n",
      "  warnings.warn(\"urllib3 ({}) or chardet ({}) doesn't match a supported \"\n",
      "/usr/local/lib/python3.8/dist-packages/tqdm/auto.py:21: TqdmWarning: IProgress not found. Please update jupyter and ipywidgets. See https://ipywidgets.readthedocs.io/en/stable/user_install.html\n",
      "  from .autonotebook import tqdm as notebook_tqdm\n",
      "2023-04-14 19:23:56.169805: I tensorflow/core/platform/cpu_feature_guard.cc:182] This TensorFlow binary is optimized to use available CPU instructions in performance-critical operations.\n",
      "To enable the following instructions: AVX2 FMA, in other operations, rebuild TensorFlow with the appropriate compiler flags.\n"
     ]
    }
   ],
   "source": [
    "from get_dataset import * \n",
    "import matplotlib.pyplot as plt\n",
    "import numpy as np"
   ]
  },
  {
   "cell_type": "code",
   "execution_count": 2,
   "metadata": {},
   "outputs": [
    {
     "name": "stderr",
     "output_type": "stream",
     "text": [
      "2023-04-14 19:23:58.891128: I tensorflow/core/common_runtime/gpu/gpu_device.cc:1635] Created device /job:localhost/replica:0/task:0/device:GPU:0 with 7619 MB memory:  -> device: 0, name: NVIDIA GeForce RTX 3080, pci bus id: 0000:01:00.0, compute capability: 8.6\n"
     ]
    }
   ],
   "source": [
    "ds = get_dataset(\"train\")"
   ]
  },
  {
   "cell_type": "code",
   "execution_count": 6,
   "metadata": {},
   "outputs": [],
   "source": [
    "ds = tf.data.Dataset.list_files(CACHE_PATH+\"train\"+\"*\")"
   ]
  },
  {
   "cell_type": "code",
   "execution_count": 7,
   "metadata": {},
   "outputs": [
    {
     "data": {
      "text/plain": [
       "<_PrefetchDataset element_spec=(TensorSpec(shape=(61, 101), dtype=tf.float32, name=None), TensorSpec(shape=(), dtype=tf.int32, name=None))>"
      ]
     },
     "execution_count": 7,
     "metadata": {},
     "output_type": "execute_result"
    }
   ],
   "source": [
    "ds"
   ]
  },
  {
   "cell_type": "code",
   "execution_count": 3,
   "metadata": {},
   "outputs": [
    {
     "name": "stderr",
     "output_type": "stream",
     "text": [
      "2023-04-14 19:24:01.470733: I tensorflow/core/common_runtime/executor.cc:1197] [/device:CPU:0] (DEBUG INFO) Executor start aborting (this does not indicate an error and you can ignore this message): INVALID_ARGUMENT: You must feed a value for placeholder tensor 'Placeholder/_0' with dtype int32\n",
      "\t [[{{node Placeholder/_0}}]]\n"
     ]
    },
    {
     "data": {
      "text/plain": [
       "51428"
      ]
     },
     "execution_count": 3,
     "metadata": {},
     "output_type": "execute_result"
    }
   ],
   "source": [
    "a = 0\n",
    "for x in ds:\n",
    "    a = a + 1\n",
    "\n",
    "a"
   ]
  },
  {
   "cell_type": "code",
   "execution_count": 6,
   "metadata": {},
   "outputs": [],
   "source": [
    "def empty_gen():\n",
    "    yield 1\n",
    "\n",
    "new_ds = tf.data.Dataset.from_generator(empty_gen, output_signature=(\n",
    "        tf.TensorSpec(shape=(61, 101), dtype=tf.float32),\n",
    "        tf.TensorSpec(shape=(), dtype=tf.int32)))"
   ]
  },
  {
   "cell_type": "code",
   "execution_count": 7,
   "metadata": {},
   "outputs": [],
   "source": [
    "new_ds = new_ds.cache(\"./tf_cache/test\")"
   ]
  },
  {
   "cell_type": "code",
   "execution_count": 12,
   "metadata": {},
   "outputs": [
    {
     "data": {
      "text/plain": [
       "(<tf.Tensor: shape=(61, 101), dtype=float32, numpy=\n",
       " array([[ 3.3198495 ,  3.095035  ,  1.8987665 , ..., -0.25404093,\n",
       "         -0.24745224, -0.22169906],\n",
       "        [ 3.2006211 ,  3.0191193 ,  1.9803237 , ..., -0.24279335,\n",
       "         -0.2374034 , -0.20466828],\n",
       "        [ 3.2801883 ,  3.101814  ,  2.1029787 , ..., -0.22650166,\n",
       "         -0.23482497, -0.22425611],\n",
       "        ...,\n",
       "        [ 3.298637  ,  3.0999246 ,  2.0425508 , ..., -0.21456452,\n",
       "         -0.2571167 , -0.23039879],\n",
       "        [ 3.1710365 ,  2.923687  ,  1.6679794 , ..., -0.22399443,\n",
       "         -0.22362456, -0.2049304 ],\n",
       "        [ 3.6077359 ,  3.4854505 ,  2.6298823 , ..., -0.26789287,\n",
       "         -0.2649563 , -0.2362682 ]], dtype=float32)>,\n",
       " <tf.Tensor: shape=(), dtype=int32, numpy=10>)"
      ]
     },
     "execution_count": 12,
     "metadata": {},
     "output_type": "execute_result"
    }
   ],
   "source": [
    "next(iter(new_ds))"
   ]
  },
  {
   "cell_type": "code",
   "execution_count": 4,
   "metadata": {},
   "outputs": [
    {
     "ename": "TypeError",
     "evalue": "'int' object is not subscriptable",
     "output_type": "error",
     "traceback": [
      "\u001b[0;31m---------------------------------------------------------------------------\u001b[0m",
      "\u001b[0;31mTypeError\u001b[0m                                 Traceback (most recent call last)",
      "Cell \u001b[0;32mIn[4], line 1\u001b[0m\n\u001b[0;32m----> 1\u001b[0m spectrogram \u001b[39m=\u001b[39m a[\u001b[39m0\u001b[39;49m]\u001b[39m.\u001b[39mnumpy()\n\u001b[1;32m      2\u001b[0m log_spec \u001b[39m=\u001b[39m np\u001b[39m.\u001b[39mlog(spectrogram\u001b[39m.\u001b[39mT \u001b[39m+\u001b[39m np\u001b[39m.\u001b[39mfinfo(\u001b[39mfloat\u001b[39m)\u001b[39m.\u001b[39meps)\n\u001b[1;32m      3\u001b[0m plt\u001b[39m.\u001b[39mpcolormesh(spectrogram\u001b[39m.\u001b[39mT)\n",
      "\u001b[0;31mTypeError\u001b[0m: 'int' object is not subscriptable"
     ]
    }
   ],
   "source": [
    "spectrogram = a[0].numpy()\n",
    "log_spec = np.log(spectrogram.T + np.finfo(float).eps)\n",
    "plt.pcolormesh(spectrogram.T)"
   ]
  },
  {
   "cell_type": "code",
   "execution_count": 4,
   "metadata": {},
   "outputs": [
    {
     "data": {
      "text/plain": [
       "<matplotlib.collections.QuadMesh at 0x7f9010c2d520>"
      ]
     },
     "execution_count": 4,
     "metadata": {},
     "output_type": "execute_result"
    },
    {
     "data": {
      "image/png": "[encoded data removed]",
      "text/plain": [
       "<Figure size 640x480 with 1 Axes>"
      ]
     },
     "metadata": {},
     "output_type": "display_data"
    }
   ],
   "source": [
    "spectrogram = a[0].numpy()\n",
    "log_spec = np.log(spectrogram.T + np.finfo(float).eps)\n",
    "plt.pcolormesh(log_spec)"
   ]
  },
  {
   "cell_type": "code",
   "execution_count": null,
   "metadata": {},
   "outputs": [],
   "source": []
  }
 ],
 "metadata": {
  "kernelspec": {
   "display_name": "Python 3",
   "language": "python",
   "name": "python3"
  },
  "language_info": {
   "codemirror_mode": {
    "name": "ipython",
    "version": 3
   },
   "file_extension": ".py",
   "mimetype": "text/x-python",
   "name": "python",
   "nbconvert_exporter": "python",
   "pygments_lexer": "ipython3",
   "version": "3.8.10"
  },
  "orig_nbformat": 4
 },
 "nbformat": 4,
 "nbformat_minor": 2
}
