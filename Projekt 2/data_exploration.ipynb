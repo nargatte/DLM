{
 "cells": [
  {
   "cell_type": "code",
   "execution_count": 1,
   "metadata": {},
   "outputs": [
    {
     "name": "stderr",
     "output_type": "stream",
     "text": [
      "/usr/lib/python3/dist-packages/requests/__init__.py:89: RequestsDependencyWarning: urllib3 (1.26.15) or chardet (3.0.4) doesn't match a supported version!\n",
      "  warnings.warn(\"urllib3 ({}) or chardet ({}) doesn't match a supported \"\n",
      "/usr/local/lib/python3.8/dist-packages/tqdm/auto.py:21: TqdmWarning: IProgress not found. Please update jupyter and ipywidgets. See https://ipywidgets.readthedocs.io/en/stable/user_install.html\n",
      "  from .autonotebook import tqdm as notebook_tqdm\n"
     ]
    }
   ],
   "source": [
    "from datasets import load_dataset_builder\n",
    "from datasets import load_dataset\n",
    "import matplotlib.pyplot as plt\n",
    "import numpy as np"
   ]
  },
  {
   "cell_type": "code",
   "execution_count": 2,
   "metadata": {},
   "outputs": [],
   "source": [
    "ds_builder = load_dataset_builder(\"speech_commands\", \"v0.01\")"
   ]
  },
  {
   "cell_type": "code",
   "execution_count": 3,
   "metadata": {},
   "outputs": [
    {
     "data": {
      "text/plain": [
       "{0: 'yes',\n",
       " 1: 'no',\n",
       " 2: 'up',\n",
       " 3: 'down',\n",
       " 4: 'left',\n",
       " 5: 'right',\n",
       " 6: 'on',\n",
       " 7: 'off',\n",
       " 8: 'stop',\n",
       " 9: 'go',\n",
       " 10: 'zero',\n",
       " 11: 'one',\n",
       " 12: 'two',\n",
       " 13: 'three',\n",
       " 14: 'four',\n",
       " 15: 'five',\n",
       " 16: 'six',\n",
       " 17: 'seven',\n",
       " 18: 'eight',\n",
       " 19: 'nine',\n",
       " 20: 'bed',\n",
       " 21: 'bird',\n",
       " 22: 'cat',\n",
       " 23: 'dog',\n",
       " 24: 'happy',\n",
       " 25: 'house',\n",
       " 26: 'marvin',\n",
       " 27: 'sheila',\n",
       " 28: 'tree',\n",
       " 29: 'wow',\n",
       " 30: '_silence_'}"
      ]
     },
     "execution_count": 3,
     "metadata": {},
     "output_type": "execute_result"
    }
   ],
   "source": [
    "dict(enumerate(ds_builder.info.features[\"label\"].names, 0)) #labels"
   ]
  },
  {
   "cell_type": "code",
   "execution_count": 4,
   "metadata": {},
   "outputs": [
    {
     "name": "stderr",
     "output_type": "stream",
     "text": [
      "Found cached dataset speech_commands (/root/.cache/huggingface/datasets/speech_commands/v0.01/0.1.0/ba3d9a6cf49aa1313c51abe16b59203451482ccb9fee6d23c94fecabf3e206da)\n"
     ]
    }
   ],
   "source": [
    "dataset_train = load_dataset(\"speech_commands\", \"v0.01\", split=\"train\") #train or test"
   ]
  },
  {
   "cell_type": "code",
   "execution_count": 5,
   "metadata": {},
   "outputs": [
    {
     "data": {
      "text/plain": [
       "(array([1860., 1853., 1843., 1842., 1839., 1852., 1864., 1839., 1885.,\n",
       "        1861., 1866., 1892., 1873., 1841., 1839., 1844., 1863., 1875.,\n",
       "        1852., 1875., 1340., 1411., 1399., 1396., 1373., 1427., 1424.,\n",
       "        1372., 1374., 1414.,    5.]),\n",
       " array([ 0.        ,  0.96774194,  1.93548387,  2.90322581,  3.87096774,\n",
       "         4.83870968,  5.80645161,  6.77419355,  7.74193548,  8.70967742,\n",
       "         9.67741935, 10.64516129, 11.61290323, 12.58064516, 13.5483871 ,\n",
       "        14.51612903, 15.48387097, 16.4516129 , 17.41935484, 18.38709677,\n",
       "        19.35483871, 20.32258065, 21.29032258, 22.25806452, 23.22580645,\n",
       "        24.19354839, 25.16129032, 26.12903226, 27.09677419, 28.06451613,\n",
       "        29.03225806, 30.        ]),\n",
       " <BarContainer object of 31 artists>)"
      ]
     },
     "execution_count": 5,
     "metadata": {},
     "output_type": "execute_result"
    },
    {
     "data": {
      "image/png": "[encoded data removed]",
      "text/plain": [
       "<Figure size 640x480 with 1 Axes>"
      ]
     },
     "metadata": {},
     "output_type": "display_data"
    }
   ],
   "source": [
    "plt.hist(dataset_train[\"label\"], bins=31, rwidth=0.7) # histogram occurencies per label"
   ]
  },
  {
   "cell_type": "code",
   "execution_count": 6,
   "metadata": {},
   "outputs": [
    {
     "data": {
      "text/plain": [
       "{16000}"
      ]
     },
     "execution_count": 6,
     "metadata": {},
     "output_type": "execute_result"
    }
   ],
   "source": [
    "set([x[\"sampling_rate\"] for x in dataset_train[\"audio\"]]) #how many different sampling rates"
   ]
  },
  {
   "cell_type": "code",
   "execution_count": 7,
   "metadata": {},
   "outputs": [
    {
     "name": "stdout",
     "output_type": "stream",
     "text": [
      "Audio below 16K samples: 5204\n",
      "Audio equal 16K samples: 45884\n",
      "Audio above 16K samples: 5\n"
     ]
    }
   ],
   "source": [
    "vals, counts = np.unique([len(x[\"array\"]) for x in dataset_train[\"audio\"]], return_counts=True)\n",
    "print(\"Audio below 16K samples: \" + str(sum([c for v, c in zip(vals, counts) if v < 16000])))\n",
    "print(\"Audio equal 16K samples: \" + str(sum([c for v, c in zip(vals, counts) if v == 16000])))\n",
    "print(\"Audio above 16K samples: \" + str(sum([c for v, c in zip(vals, counts) if v > 16000])))"
   ]
  },
  {
   "cell_type": "code",
   "execution_count": 8,
   "metadata": {},
   "outputs": [
    {
     "name": "stdout",
     "output_type": "stream",
     "text": [
      "[988891, 960000, 980062, 960000, 1522930]\n",
      "5411883\n"
     ]
    }
   ],
   "source": [
    "silences = [x for x in dataset_train if x[\"label\"] == 30]\n",
    "silence_lenghts = [len(x[\"audio\"][\"array\"]) for x in silences]\n",
    "print([len(x[\"audio\"][\"array\"]) for x in silences]) # silence records requires splincing to ensure they are up to 16K for normalization\n",
    "print(sum(silence_lenghts))"
   ]
  },
  {
   "cell_type": "code",
   "execution_count": 9,
   "metadata": {},
   "outputs": [
    {
     "name": "stdout",
     "output_type": "stream",
     "text": [
      "mean: 13509.027478862414, std: 1873.8777179884453, min: 5945\n"
     ]
    },
    {
     "data": {
      "text/plain": [
       "(array([   8.,   17.,  126.,  131.,  318.,  548.,  459.,  988., 1126.,\n",
       "        1483.]),\n",
       " array([ 5945. ,  6948.1,  7951.2,  8954.3,  9957.4, 10960.5, 11963.6,\n",
       "        12966.7, 13969.8, 14972.9, 15976. ]),\n",
       " <BarContainer object of 10 artists>)"
      ]
     },
     "execution_count": 9,
     "metadata": {},
     "output_type": "execute_result"
    },
    {
     "data": {
      "image/png": "[encoded data removed]",
      "text/plain": [
       "<Figure size 640x480 with 1 Axes>"
      ]
     },
     "metadata": {},
     "output_type": "display_data"
    }
   ],
   "source": [
    "lens_below_16K = [x for x in [len(x[\"array\"]) for x in dataset_train[\"audio\"]] if x < 16000]\n",
    "print(f\"mean: {np.mean(lens_below_16K)}, std: {np.std(lens_below_16K)}, min: {np.min(lens_below_16K)}\")\n",
    "plt.hist(lens_below_16K) # add padding for these examples"
   ]
  }
 ],
 "metadata": {
  "kernelspec": {
   "display_name": "Python 3",
   "language": "python",
   "name": "python3"
  },
  "language_info": {
   "codemirror_mode": {
    "name": "ipython",
    "version": 3
   },
   "file_extension": ".py",
   "mimetype": "text/x-python",
   "name": "python",
   "nbconvert_exporter": "python",
   "pygments_lexer": "ipython3",
   "version": "3.8.10"
  },
  "orig_nbformat": 4
 },
 "nbformat": 4,
 "nbformat_minor": 2
}
